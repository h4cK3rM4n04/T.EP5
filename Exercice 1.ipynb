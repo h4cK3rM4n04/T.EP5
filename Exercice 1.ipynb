{
 "cells": [
  {
   "cell_type": "markdown",
   "metadata": {},
   "source": [
    "<div class = \"alert alert-warning\" align=\"center\"> \n",
    "    <img src=\"https://www.egd.mg/wp-content/uploads/2020/01/cropped-logo-home-110px.png\" align=\"left\" width=\"290\"  margin=\"50px\"> \n",
    "    <center><h1>Lycée français de Tananarive</h1> \n",
    "        <h2> Jupyter Hub,  Spécialité NSI </h2></center>\n",
    "</div>"
   ]
  },
  {
   "cell_type": "markdown",
   "metadata": {
    "deletable": false,
    "editable": false,
    "nbgrader": {
     "cell_type": "markdown",
     "checksum": "e39cc3313c54eeedf9c22cf392e6409d",
     "grade": false,
     "grade_id": "cell-6af74dfa0e73d511",
     "locked": true,
     "schema_version": 3,
     "solution": false,
     "task": false
    }
   },
   "source": [
    "<div align=justify>\n",
    "    <h1 style='text-align:center' ><span style = 'color:#0000FF'> Epréuve Pratique N°4 : Exercice 1</span></h1>\n",
    "</div>"
   ]
  },
  {
   "cell_type": "markdown",
   "metadata": {
    "deletable": false,
    "editable": false,
    "nbgrader": {
     "cell_type": "markdown",
     "checksum": "9b1981694e2e2db4eaa37f2104378144",
     "grade": false,
     "grade_id": "cell-b90d1dca4ce108d4",
     "locked": true,
     "schema_version": 3,
     "solution": false,
     "task": false
    }
   },
   "source": [
    "L'opérateur « ou exclusif » entre deux bits renvoie 0 si les deux bits sont égaux et 1 s'ils sont différents :\n",
    "\n",
    "0 ⊕ 0 = 0 , 0 ⊕ 1 = 1 , 1 ⊕ 0 = 1 , 1 ⊕ 1 = 0\n",
    "\n",
    "On représente ici une suite de bits par un tableau contenant des 0 et des 1.\n",
    "Exemples :\n",
    "```python\n",
    "a = [1, 0, 1, 0, 1, 1, 0, 1]\n",
    "b = [0, 1, 1, 1, 0, 1, 0, 0] \n",
    "c = [1, 1, 0, 1]\n",
    "d = [0, 0, 1, 1]\n",
    "```\n",
    "\n",
    "Écrire la fonction xor qui prend en paramètres deux tableaux de même longueur et qui renvoie un tableau où l’élément situé à position i est le résultat, par l’opérateur « ou exclusif », des éléments à la position i des tableaux passés en paramètres.\n",
    "En considérant les quatre exemples ci-dessus, cette fonction doit passer les tests suivants :\n",
    "assert(xor(a, b) == [1, 1, 0, 1, 1, 0, 0, 1])\n",
    "assert(xor(c, d) == [1, 1, 1, 0])"
   ]
  },
  {
   "cell_type": "code",
   "execution_count": 1,
   "metadata": {
    "deletable": false,
    "nbgrader": {
     "cell_type": "code",
     "checksum": "c8fc9291ea4619af95269337350cd4cd",
     "grade": false,
     "grade_id": "cell-07a62f5a7b4111bd",
     "locked": false,
     "schema_version": 3,
     "solution": true,
     "task": false
    }
   },
   "outputs": [],
   "source": [
    "def xor(T1,T2) :\n",
    "    if len(T1) != len(T2) :\n",
    "        return None\n",
    "    resultat = [0 for i in range(len(T1))]\n",
    "    for j in range(len(T1)) :\n",
    "        if T1[j] != T2[j] :\n",
    "            resultat[j] = 1\n",
    "        else :\n",
    "            continue\n",
    "    return resultat\n"
   ]
  },
  {
   "cell_type": "code",
   "execution_count": 2,
   "metadata": {
    "deletable": false,
    "editable": false,
    "nbgrader": {
     "cell_type": "code",
     "checksum": "778db0a97fb6a47be7641936d242d8e6",
     "grade": true,
     "grade_id": "cell-e23c11020a8358b7",
     "locked": true,
     "points": 2,
     "schema_version": 3,
     "solution": false,
     "task": false
    }
   },
   "outputs": [],
   "source": [
    "a = [1, 0, 1, 0, 1, 1, 0, 1]\n",
    "b = [0, 1, 1, 1, 0, 1, 0, 0] \n",
    "\n",
    "assert xor(a, b) == [1, 1, 0, 1, 1, 0, 0, 1]\n"
   ]
  },
  {
   "cell_type": "code",
   "execution_count": 3,
   "metadata": {
    "deletable": false,
    "editable": false,
    "nbgrader": {
     "cell_type": "code",
     "checksum": "feb6de201e26b12df6d903cc7fdce7fa",
     "grade": true,
     "grade_id": "cell-03f0ccd8bcd20dcf",
     "locked": true,
     "points": 2,
     "schema_version": 3,
     "solution": false,
     "task": false
    }
   },
   "outputs": [],
   "source": [
    "c = [1, 1, 0, 1]\n",
    "d = [0, 0, 1, 1]\n",
    "\n",
    "assert xor(c, d) == [1, 1, 1, 0]"
   ]
  },
  {
   "cell_type": "code",
   "execution_count": 4,
   "metadata": {
    "deletable": false,
    "editable": false,
    "nbgrader": {
     "cell_type": "code",
     "checksum": "811caf2864b3f1a9cc6d763f3e8d33a6",
     "grade": true,
     "grade_id": "cell-bd938c3d0ec1e633",
     "locked": true,
     "points": 1,
     "schema_version": 3,
     "solution": false,
     "task": false
    }
   },
   "outputs": [],
   "source": [
    "a = [1, 0, 1, 0, 1, 1, 0, 1]\n",
    "c = [1, 1, 0, 1]\n",
    "\n",
    "assert xor(a, c) == None"
   ]
  }
 ],
 "metadata": {
  "kernelspec": {
   "display_name": "Python 3 (ipykernel)",
   "language": "python",
   "name": "python3"
  },
  "language_info": {
   "codemirror_mode": {
    "name": "ipython",
    "version": 3
   },
   "file_extension": ".py",
   "mimetype": "text/x-python",
   "name": "python",
   "nbconvert_exporter": "python",
   "pygments_lexer": "ipython3",
   "version": "3.11.5"
  }
 },
 "nbformat": 4,
 "nbformat_minor": 4
}
