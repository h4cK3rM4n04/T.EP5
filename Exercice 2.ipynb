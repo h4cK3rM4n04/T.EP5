{
 "cells": [
  {
   "cell_type": "markdown",
   "metadata": {},
   "source": [
    "<div class = \"alert alert-warning\" align=\"center\"> \n",
    "    <img src=\"https://www.egd.mg/wp-content/uploads/2020/01/cropped-logo-home-110px.png\" align=\"left\" width=\"290\"  margin=\"50px\"> \n",
    "    <center><h1>Lycée français de Tananarive</h1> \n",
    "        <h2> Jupyter Hub,  Spécialité NSI </h2></center>\n",
    "</div>"
   ]
  },
  {
   "cell_type": "markdown",
   "metadata": {
    "deletable": false,
    "editable": false,
    "nbgrader": {
     "cell_type": "markdown",
     "checksum": "686842e5d98e5617d7f07ad4bec0d332",
     "grade": false,
     "grade_id": "cell-bace52725a1fe31e",
     "locked": true,
     "schema_version": 3,
     "solution": false,
     "task": false
    }
   },
   "source": [
    "<div align=justify>\n",
    "    <h1 style='text-align:center' ><span style = 'color:#0000FF'> Epréuve Pratique N°5 : Exercice 2</span></h1>\n",
    "</div>"
   ]
  },
  {
   "cell_type": "markdown",
   "metadata": {
    "deletable": false,
    "editable": false,
    "nbgrader": {
     "cell_type": "markdown",
     "checksum": "9e6e4204272a1e52c4ae4a6429608eae",
     "grade": false,
     "grade_id": "cell-bc2bab4d06493afa",
     "locked": true,
     "schema_version": 3,
     "solution": false,
     "task": false
    }
   },
   "source": [
    "Nous avons l’habitude de noter les expressions arithmétiques avec des parenthèses comme par exemple : \n",
    "$$(2+3)×5.$$ Il existe une autre notation utilisée par certaines calculatrices, appelée notation postfixe, qui n’utilise pas de parenthèses. \n",
    "\n",
    "L’expression arithmétique précédente est alors obtenue en saisissant successivement 2, puis 3, puis l’opérateur +, puis 5, et enfin l’opérateur ×.\n",
    "\n",
    "On modélise cette saisie par le tableau `[2, 3, '+', 5, '*']`\n",
    "\n",
    "Autre exemple, la notation postfixe de 3×2+5 est modélisée par le tableau : `[3, 2, '*', 5, '+']`.\n",
    "\n",
    "D’une manière plus générale, la valeur associée à une expression arithmétique en notation postfixe est déterminée à l’aide d’une pile en parcourant l’expression arithmétique de gauche à droite de la façon suivante :\n",
    "- Si l’élément parcouru est un nombre, on le place au sommet de la pile ;\n",
    "- Si l’élément parcouru est un opérateur, on récupère les deux éléments situés au sommet de la pile et on leur applique l’opérateur. On place alors le résultat au sommet de la pile. \n",
    "- A la fin du parcours, il reste alors un seul élément dans la pile qui est le résultat de l’expression arithmétique.\n",
    "\n",
    "Dans le cadre de cet exercice, on se limitera aux opérations × et +. Pour cet exercice, on dispose d’une classe Pile qui implémente les méthodes de base sur la structure de pile. \n",
    "\n",
    "**Compléter le script de la fonction `eval_expression` qui reçoit en paramètre une liste python représentant la notation postfixe d’une expression arithmétique et qui renvoie sa valeur associée.**"
   ]
  },
  {
   "cell_type": "code",
   "execution_count": 1,
   "metadata": {
    "deletable": false,
    "editable": false,
    "nbgrader": {
     "cell_type": "code",
     "checksum": "5cb3140d2f986ffbdbb8fbdde36dcf08",
     "grade": false,
     "grade_id": "cell-0c3278ed5b4adc3e",
     "locked": true,
     "schema_version": 3,
     "solution": false,
     "task": false
    }
   },
   "outputs": [],
   "source": [
    "class Pile:     \n",
    "    \"\"\"Classe définissant une structure de pile.\"\"\"     \n",
    "    def __init__(self):         \n",
    "        self.contenu = []     \n",
    "        \n",
    "    def est_vide(self):         \n",
    "        \"\"\"         Renvoie le booléen True si la pile est vide, False sinon.         \"\"\"         \n",
    "        return self.contenu == []      \n",
    "    \n",
    "    def empiler(self, v):         \n",
    "        \"\"\"Place l’élément v au sommet de la pile.\"\"\"         \n",
    "        self.contenu.append(v)      \n",
    "        \n",
    "    def depiler(self):         \n",
    "        \"\"\" Retire et renvoie l’élément placé au sommet de la pile,          \n",
    "        si la pile n’est pas vide. \"\"\" \n",
    "        if not self.est_vide():             \n",
    "            return self.contenu.pop() "
   ]
  },
  {
   "cell_type": "code",
   "execution_count": 100,
   "metadata": {
    "deletable": false,
    "nbgrader": {
     "cell_type": "code",
     "checksum": "3899a716f3dcd56b639de4024a787166",
     "grade": false,
     "grade_id": "cell-3892d23eb9a0c9a9",
     "locked": false,
     "schema_version": 3,
     "solution": true,
     "task": false
    }
   },
   "outputs": [],
   "source": [
    "def eval_expression(tab):     \n",
    "    p = Pile()    \n",
    "    for element in tab:\n",
    "        if len(tab) == 1 :\n",
    "            return element\n",
    "        if type(element) is int : \n",
    "            p.empiler(element)\n",
    "        elif element == '+' :\n",
    "            a = p.depiler()\n",
    "            b = p.depiler()\n",
    "            a = a + b\n",
    "            p.empiler(a)\n",
    "        elif element == '*':\n",
    "            a = p.depiler() \n",
    "            b = p.depiler()\n",
    "            a = a * b\n",
    "            p.empiler(a)\n",
    "    return p.depiler()\n",
    "        \n",
    "            "
   ]
  },
  {
   "cell_type": "code",
   "execution_count": 102,
   "metadata": {
    "deletable": false,
    "editable": false,
    "nbgrader": {
     "cell_type": "code",
     "checksum": "70d31dfe80828adc16747ce705a4a979",
     "grade": true,
     "grade_id": "cell-c96a0b3bb1f514d5",
     "locked": true,
     "points": 2,
     "schema_version": 3,
     "solution": false,
     "task": false
    }
   },
   "outputs": [],
   "source": [
    "assert eval_expression([2, 3, '+', 5, '*'])  == 25"
   ]
  },
  {
   "cell_type": "code",
   "execution_count": 103,
   "metadata": {
    "deletable": false,
    "editable": false,
    "nbgrader": {
     "cell_type": "code",
     "checksum": "89bb7760361cb43c8a83fd5046b9cb64",
     "grade": true,
     "grade_id": "cell-9ce60ce5dd21a388",
     "locked": true,
     "points": 1,
     "schema_version": 3,
     "solution": false,
     "task": false
    }
   },
   "outputs": [],
   "source": [
    "assert eval_expression([2]) == 2"
   ]
  },
  {
   "cell_type": "code",
   "execution_count": 104,
   "metadata": {
    "deletable": false,
    "editable": false,
    "nbgrader": {
     "cell_type": "code",
     "checksum": "7fe98494ac6ee4871053bab0be253416",
     "grade": true,
     "grade_id": "cell-b6a7068f50371324",
     "locked": true,
     "points": 2,
     "schema_version": 3,
     "solution": false,
     "task": false
    }
   },
   "outputs": [],
   "source": [
    "assert eval_expression([3, 3, '+', 10, '+' , 5, '*']) == 80"
   ]
  }
 ],
 "metadata": {
  "kernelspec": {
   "display_name": "Python 3",
   "language": "python",
   "name": "python3"
  },
  "language_info": {
   "codemirror_mode": {
    "name": "ipython",
    "version": 3
   },
   "file_extension": ".py",
   "mimetype": "text/x-python",
   "name": "python",
   "nbconvert_exporter": "python",
   "pygments_lexer": "ipython3",
   "version": "3.6.9"
  }
 },
 "nbformat": 4,
 "nbformat_minor": 4
}
